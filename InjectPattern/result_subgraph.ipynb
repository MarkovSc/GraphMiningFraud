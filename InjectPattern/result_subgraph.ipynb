{
 "cells": [
  {
   "cell_type": "code",
   "execution_count": null,
   "metadata": {},
   "outputs": [],
   "source": [
    "import os,sys\n",
    "from tqdm import tqdm\n",
    "from scipy.sparse import csc_matrix, coo_matrix, csr_matrix, lil_matrix\n",
    "import sys\n",
    "import numpy as np\n",
    "import random\n",
    "import numpy.random as nr\n",
    "import scipy.linalg as sla\n",
    "from scipy.sparse import coo_matrix\n",
    "!ls"
   ]
  },
  {
   "cell_type": "code",
   "execution_count": null,
   "metadata": {},
   "outputs": [],
   "source": [
    "import networkx as nx\n",
    "import matplotlib.pyplot as plt\n",
    "from matplotlib import cm\n",
    "\n",
    "nodes_u = set()\n",
    "nodes_v = set()\n",
    "weight_edges = list()\n",
    "edgeDict=dict()\n",
    "\n",
    "G = nx.Graph()\n",
    "with open(\"yelp.edgelist.inject.1000\", encoding='utf-8') as file:\n",
    "    for line in file:\n",
    "        l = line.split(' ')[0:3]\n",
    "       \n",
    "        nodes_u.add('u' + l[0])\n",
    "        nodes_v.add('v' + l[1])\n",
    "\n",
    "        weight_edges.append(['u' + l[0], 'v' + l[1], int(l[2])])\n",
    "\n",
    "nodes = list(nodes_u) + list(nodes_v)\n",
    "node2index = dict([(node, index) for index, node in enumerate(nodes)])\n",
    "\n",
    "G = nx.Graph()\n",
    "G.add_nodes_from([index for index in range(len(nodes_u))], bipartite=0)\n",
    "G.add_nodes_from([index + len(nodes_u) for index in range(len(nodes_v))], bipartite=1)\n",
    "\n",
    "for l in weight_edges:\n",
    "    G.add_edge(node2index[l[0]], node2index[l[1]], weight = l[2])"
   ]
  },
  {
   "cell_type": "code",
   "execution_count": null,
   "metadata": {},
   "outputs": [],
   "source": [
    "#result subgraph load\n",
    "fraudar_user=[]\n",
    "detect_user=[]\n",
    "false_fraudar_user=[]\n",
    "with open(\"yelp.edgelist.trueA.1000\", encoding='utf-8') as file:\n",
    "    for line in file:\n",
    "        fraudar_user.append('u' +  line.strip())\n",
    "                            \n",
    "with open(\"yelp.blk1.rows\", encoding='utf-8') as file:\n",
    "    for line in file:\n",
    "        detect_user.append('u' +  line.strip())\n",
    "\n",
    "false_fraudar_user = list(set(detect_user).difference(set(fraudar_user)))\n",
    "fraudar_item=[]\n",
    "with open(\"yelp.edgelist.trueB.1000\", encoding='utf-8') as file:\n",
    "    for line in file:\n",
    "        fraudar_item.append('v' +  line.strip())\n",
    "sub_nodes = fraudar_user + fraudar_item\n",
    "\n",
    "def subgraph(sub_nodes):\n",
    "    sub_node_index = [node2index[node] for node in sub_nodes]\n",
    "\n",
    "    node_color_dict={}\n",
    "    for index in range(len(sub_nodes)):\n",
    "        node = sub_nodes[index]\n",
    "        color = 'blue'\n",
    "        if node in  fraudar_user:\n",
    "            color = 'red'\n",
    "        if node in fraudar_item:\n",
    "            color = 'yellow'\n",
    "        node_color_dict[sub_node_index[index]] = color\n",
    "    return sub_node_index, node_color_dict"
   ]
  },
  {
   "cell_type": "code",
   "execution_count": null,
   "metadata": {},
   "outputs": [],
   "source": [
    "#plt.figure(figsize=(100,100), dpi=1)\n",
    "plt.rcParams['figure.dpi'] = 30\n",
    "plt.rcParams['figure.figsize'] = [100, 100]\n",
    "\n",
    "sub_node_index, node_color_dict = subgraph(sub_nodes)\n",
    "H = G.subgraph(sub_node_index)\n",
    "color_map = [node_color_dict[node] for node in H.nodes]\n",
    "pos=nx.spring_layout(H, iterations=100)\n",
    "nx.draw(H, node_color = color_map, with_labels = False)\n",
    "plt.show"
   ]
  },
  {
   "cell_type": "code",
   "execution_count": null,
   "metadata": {},
   "outputs": [],
   "source": [
    "plt.rcParams['figure.dpi'] = 30\n",
    "plt.rcParams['figure.figsize'] = [40, 40]\n",
    "sm = nx.to_numpy_matrix(H)\n",
    "plt.spy(sm, marker=',', markersize = 5)\n",
    "plt.show()"
   ]
  },
  {
   "cell_type": "code",
   "execution_count": null,
   "metadata": {},
   "outputs": [],
   "source": [
    "#plt.figure(figsize=(100,100), dpi=1)\n",
    "plt.rcParams['figure.dpi'] = 30\n",
    "plt.rcParams['figure.figsize'] = [100, 100]\n",
    "\n",
    "sub_node_index, node_color_dict = subgraph(detect_user + fraudar_item)\n",
    "H = G.subgraph(sub_node_index)\n",
    "color_map = [node_color_dict[node] for node in H.nodes]\n",
    "pos=nx.spring_layout(H, iterations=100)\n",
    "nx.draw(H, node_color = color_map, with_labels = False)\n",
    "plt.show"
   ]
  },
  {
   "cell_type": "code",
   "execution_count": null,
   "metadata": {},
   "outputs": [],
   "source": [
    "plt.rcParams['figure.dpi'] = 30\n",
    "plt.rcParams['figure.figsize'] = [40, 40]\n",
    "sm = nx.to_numpy_matrix(H)\n",
    "plt.spy(sm, marker=',', markersize = 5)\n",
    "plt.show()"
   ]
  },
  {
   "cell_type": "code",
   "execution_count": null,
   "metadata": {},
   "outputs": [],
   "source": [
    "#plt.figure(figsize=(100,100), dpi=1)\n",
    "plt.rcParams['figure.dpi'] = 30\n",
    "plt.rcParams['figure.figsize'] = [100, 100]\n",
    "\n",
    "sub_node_index, node_color_dict = subgraph(false_fraudar_user + fraudar_item)\n",
    "H = G.subgraph(sub_node_index)\n",
    "color_map = [node_color_dict[node] for node in H.nodes]\n",
    "pos=nx.spring_layout(H, iterations=100)\n",
    "nx.draw(H, node_color = color_map, with_labels = False)\n",
    "plt.show"
   ]
  },
  {
   "cell_type": "code",
   "execution_count": null,
   "metadata": {},
   "outputs": [],
   "source": [
    "plt.rcParams['figure.dpi'] = 30\n",
    "plt.rcParams['figure.figsize'] = [40, 40]\n",
    "sm = nx.to_numpy_matrix(H)\n",
    "plt.spy(sm, marker=',', markersize = 5)\n",
    "plt.show()"
   ]
  },
  {
   "cell_type": "code",
   "execution_count": null,
   "metadata": {},
   "outputs": [],
   "source": [
    "sub_node_index, node_color_dict = subgraph(sub_nodes)\n",
    "H = G.subgraph(sub_node_index)\n",
    "GM = nx.algorithms.isomorphism.GraphMatcher(G,H)\n",
    "for subgraph in GM.subgraph_isomorphisms_iter():\n",
    "    print(subgraph)"
   ]
  },
  {
   "cell_type": "code",
   "execution_count": null,
   "metadata": {},
   "outputs": [],
   "source": []
  }
 ],
 "metadata": {
  "kernelspec": {
   "display_name": "Python 3",
   "language": "python",
   "name": "python3"
  },
  "language_info": {
   "codemirror_mode": {
    "name": "ipython",
    "version": 3
   },
   "file_extension": ".py",
   "mimetype": "text/x-python",
   "name": "python",
   "nbconvert_exporter": "python",
   "pygments_lexer": "ipython3",
   "version": "3.6.8"
  }
 },
 "nbformat": 4,
 "nbformat_minor": 2
}
