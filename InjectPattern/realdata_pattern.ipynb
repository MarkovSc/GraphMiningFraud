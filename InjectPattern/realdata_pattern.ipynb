{
 "cells": [
  {
   "cell_type": "markdown",
   "metadata": {},
   "source": [
    "## real yelp data with the camouflag pattern\n",
    "## also injected with the ts and rating "
   ]
  },
  {
   "cell_type": "code",
   "execution_count": 1,
   "metadata": {},
   "outputs": [],
   "source": [
    "import os,sys\n",
    "from tqdm import tqdm\n",
    "from scipy.sparse import csc_matrix, coo_matrix, csr_matrix, lil_matrix\n",
    "def myreadfile(fnm, mode):\n",
    "    if '.gz' == fnm[-3:]:\n",
    "        fnm = fnm[:-3]\n",
    "    if os.path.isfile(fnm):\n",
    "        f = open(fnm, mode)\n",
    "    elif os.path.isfile(fnm+'.gz'):\n",
    "        import gzip\n",
    "        f = gzip.open(fnm+'.gz', mode)\n",
    "    else:\n",
    "        print('file: {} or its zip file does NOT exist'.format(fnm))\n",
    "        sys.exit(1)\n",
    "    return f\n",
    "\n",
    "def saveSimpleListData(simls, outdata):\n",
    "    with open(outdata, 'w') as fw:\n",
    "        fw.write('\\n'.join(map(str, simls)))\n",
    "        fw.write('\\n')\n",
    "        fw.close()\n",
    "        \n",
    "def savesm2edgelist(sm, ofile, idstartzero=True, delimiter=' ', kformat=None):\n",
    "    '''\n",
    "    Save sparse matrix into edgelist\n",
    "    kformat = \"{0:.1f}\"\n",
    "    '''\n",
    "    offset = 0 if idstartzero else 1\n",
    "    lsm = sm.tolil()\n",
    "    with open(ofile, 'wb') as fout:\n",
    "        i = 0\n",
    "        for row, d in zip(lsm.rows, lsm.data):\n",
    "            for j,w in zip(row, d):\n",
    "                if kformat is not None:\n",
    "                    w = str.format(kformat, w)\n",
    "                ostr = delimiter.join([str(i+offset), str(j+offset), str(w)])\n",
    "                #fout.write('{} {} {}\\n'.format(i+offset, j+offset, w))\n",
    "                fout.write((ostr+'\\n').encode())\n",
    "            i+=1\n",
    "        fout.close()\n",
    "    return\n",
    "\n",
    "def saveDictListData(dictls, outdata):\n",
    "    with open(outdata, 'w') as fw:\n",
    "        for k, l in dictls.items():\n",
    "            if type(l) != list:\n",
    "                print(\"This is not a dict of value list.\\n\")\n",
    "                break\n",
    "            fw.write(\"{}:\".format(k))\n",
    "            for i in range(len(l)-1):\n",
    "                fw.write(\"{} \".format(l[i]))\n",
    "            fw.write(\"{}\\n\".format(l[-1]))\n",
    "        fw.close()\n",
    "        \n",
    "def loadDictListData(indata, edgeSet, ktype=str, vtype=str):\n",
    "    dictls={}\n",
    "    with myreadfile(indata, 'r') as fr:\n",
    "        for line in tqdm(fr):\n",
    "            line = line.strip().decode().split(':')\n",
    "            lst=[]\n",
    "            for e in line[1].strip().split(' '):\n",
    "                lst.append(vtype(e))\n",
    "            if(int(line[0].strip().split('-')[0]) in edgeSet and int(line[0].strip().split('-')[1]) in edgeSet):\n",
    "                dictls[ktype(line[0].strip())]=lst\n",
    "        fr.close()\n",
    "    return dictls\n",
    "\n",
    "def loadedge2sm(ifile, edge_set, mtype=csc_matrix, weighted=False, dtype=int, delimiter=',', issquared=False):\n",
    "    '''\n",
    "    load edge list into sparse matrix\n",
    "    matrix dimensions are decided by max row id and max col id\n",
    "    support csr, coo, csc matrix\n",
    "    '''\n",
    "    xs=[]\n",
    "    ys=[]\n",
    "    data=[]\n",
    "    print(ifile)\n",
    "    with myreadfile(ifile, 'rb') as fin:\n",
    "        for line in tqdm(fin):\n",
    "            line = line.decode().strip()\n",
    "            coords=line.strip().split(' ')\n",
    "            if(int(coords[0]) in edge_set and int(coords[1]) in edge_set):\n",
    "                xs.append( int(coords[0]) )\n",
    "                ys.append( int(coords[1]) )\n",
    "                if weighted:\n",
    "                    data.append(dtype(coords[2]))\n",
    "                else:\n",
    "                    data.append(1)\n",
    "        fin.close()\n",
    "    m = max(xs) + 1\n",
    "    n = max(ys) + 1\n",
    "    if issquared is False:\n",
    "        M, N = m, n\n",
    "    else:\n",
    "        M = max(m,n)\n",
    "        N = max(m,n)\n",
    "        \n",
    "    print(\"edge len\", len(data))\n",
    "    sm = mtype((data, (xs, ys)), shape=(M,N))\n",
    "    return sm"
   ]
  },
  {
   "cell_type": "code",
   "execution_count": 2,
   "metadata": {},
   "outputs": [],
   "source": [
    "import sys\n",
    "import numpy as np\n",
    "import random\n",
    "import numpy.random as nr\n",
    "import scipy.linalg as sla\n",
    "from scipy.sparse import coo_matrix\n",
    "\n",
    "def genEvenDenseBlock(A, B, p):\n",
    "    m = []\n",
    "    for i in range(A):\n",
    "        a = np.random.binomial(1, p, B)\n",
    "        m.append(a)\n",
    "    return np.array(m)\n",
    "\n",
    "def genHyperbolaDenseBlock(A, B, alpha, tau):\n",
    "    'this is from hyperbolic paper: i^\\alpha * j^\\alpha > \\tau'\n",
    "    m = np.empty([A, B], dtype=int)\n",
    "    for i in range(A):\n",
    "        for j in range(B):\n",
    "            if (i+1)**alpha * (j+1)**alpha > tau:\n",
    "                m[i,j] = 1\n",
    "            else:\n",
    "                m[i,j] = 0\n",
    "    return m\n",
    "\n",
    "def genDiHyperRectBlocks(A1, B1, A2, B2, alpha=-0.5, tau=None, p=1):\n",
    "    if tau is None:\n",
    "        tau = A1**alpha * B1**alpha\n",
    "    m1 = genEvenDenseBlock(A1, B1, p=p)\n",
    "    m2 = genHyperbolaDenseBlock(A2, B2, alpha, tau)\n",
    "    M = sla.block_diag(m1, m2)\n",
    "    return M\n",
    "\n",
    "def addnosie(M, A, B, p, black=True, A0=0, B0=0):\n",
    "    v = 1 if black else 0\n",
    "    for i in range(A-A0):\n",
    "        a = np.random.binomial(1, p, B-B0)\n",
    "        for j in a.nonzero()[0]:\n",
    "            M[A0+i,B0+j]=v\n",
    "    return M\n",
    "\n",
    "\n",
    "def injectCliqueCamo(M, m0, n0, p, testIdx):\n",
    "    (m,n) = M.shape\n",
    "    M2 = M.copy().tolil()\n",
    "\n",
    "    colSum = np.squeeze(M2.sum(axis = 0).A)\n",
    "    colSumPart = colSum[n0:n]\n",
    "    colSumPartPro = np.int_(colSumPart)\n",
    "    colIdx = np.arange(n0, n, 1)\n",
    "    population = np.repeat(colIdx, colSumPartPro, axis = 0)\n",
    "\n",
    "    for i in range(m0):\n",
    "        # inject clique\n",
    "        for j in range(n0):\n",
    "            if random.random() < p:\n",
    "                M2[i,j] = 1\n",
    "        # inject camo\n",
    "        if testIdx == 1:\n",
    "            thres = p * n0 / (n - n0)\n",
    "            for j in range(n0, n):\n",
    "                if random.random() < thres:\n",
    "                    M2[i,j] = 1\n",
    "        if testIdx == 2:\n",
    "            thres = 2 * p * n0 / (n - n0)\n",
    "            for j in range(n0, n):\n",
    "                if random.random() < thres:\n",
    "                    M2[i,j] = 1\n",
    "        # biased camo           \n",
    "        if testIdx == 3:\n",
    "            colRplmt = random.sample(list(population), int(n0 * p))\n",
    "            M2[i,colRplmt] = 1\n",
    "\n",
    "    return M2.tocsc()\n",
    "\n",
    "\n",
    "def generateProps(rates, times, k, s, t0, tsdiffcands, tsp):\n",
    "\n",
    "    if len(rates) > 0:\n",
    "        # rate just in 4 and 4.5 , why ?\n",
    "        rs = np.random.choice([4, 4.5], size=s)\n",
    "        if k in rates:\n",
    "            for r in rs:\n",
    "                rates[k].append(r)\n",
    "        else:\n",
    "            rates[k] = list(rs)\n",
    "    if len(times) > 0:\n",
    "        # rate time not fixed ? \n",
    "        ts = np.random.choice(tsdiffcands, size=s, p=tsp) + t0\n",
    "        if k in times:\n",
    "            for t in ts:\n",
    "                times[k].append(t)\n",
    "        else:\n",
    "            times[k] = list(ts)\n",
    "    return\n",
    "\n",
    "def injectFraud2PropGraph(edgeSet, freqfile, ratefile, tsfile, acnt, bcnt, goal, popbd,\n",
    "                          testIdx = 3, idstartzero=True, re=True, suffix=\"sample\", weighted=True, output=True, inject_K=1):\n",
    "    if not idstartzero:\n",
    "        print('we do not handle id start 1 yet for ts and rate')\n",
    "        ratefile, tsfile = None, None\n",
    "\n",
    "    M = loadedge2sm(freqfile, edgeSet, coo_matrix, weighted=weighted)\n",
    "    N = M.copy()\n",
    "    'smax: the max # of multiedge'\n",
    "    smax = M.data.max() #max freqency\n",
    "    if acnt == 0 and re:\n",
    "        return M, ([], [])\n",
    "    M2 = M.tolil()\n",
    "    (m, n) = M2.shape\n",
    "    rates, times, tsdiffs, t0 = [], [], [], 0\n",
    "    t0, tsdiffcands,tsp = 0, [], []\n",
    "    if ratefile is not None:\n",
    "        rates = loadDictListData(ratefile, edgeSet, ktype=str, vtype=float)\n",
    "    if tsfile is not None:\n",
    "        times = loadDictListData(tsfile, edgeSet, ktype=str, vtype=int)\n",
    "        tsmin, tsmax = sys.maxsize,0\n",
    "        tsdiffs = np.array([])\n",
    "        #page[node_id] = [page_time]\n",
    "        prodts={i:[] for i in range(n)}\n",
    "        for k,v in times.items():\n",
    "            k = k.split('-')\n",
    "            pid = int(k[1])\n",
    "            prodts[pid] += v\n",
    "            \n",
    "        #sort page time list [page_time]\n",
    "        for pv in prodts.values():\n",
    "            pv = sorted(pv)\n",
    "            if(len(pv)<2):\n",
    "                continue;\n",
    "            minv, maxv = pv[0], pv[-1]\n",
    "            if tsmin > minv:\n",
    "                tsmin = minv\n",
    "            if tsmax < maxv:\n",
    "                tsmax = maxv\n",
    "            if len(pv)<=2:\n",
    "                continue\n",
    "            # cal the time delta with len([page_time]) -1\n",
    "            vdiff = np.diff(pv)\n",
    "            'concatenate with [] will change value to float'\n",
    "            # the pv is sorted , so vdiff is to remove duplicates ts\n",
    "            # the tsdiffs is all page time diff\n",
    "            tsdiffs = np.concatenate((tsdiffs, vdiff[vdiff>0]))\n",
    "        tsdiffs.sort()\n",
    "        tsdiffs = tsdiffs.astype(int)\n",
    "    # again remove duplicates and get top 20 page time diff\n",
    "    tsdiffcands = np.unique(tsdiffs)[:20] #another choice is bincount\n",
    "    print(\"ts sample list\", tsdiffcands)\n",
    "    tsp = np.arange(20,dtype=float)+1\n",
    "    print(\"max tf time\", tsp)\n",
    "    tsp = 1.0/tsp\n",
    "    # nomalization time diff nparray\n",
    "    tsp = tsp/tsp.sum()\n",
    "    t0 = np.random.randint(tsmin, tsmax,dtype=int)\n",
    "\n",
    "    colSum = M2.sum(0).getA1()\n",
    "    colids = np.arange(n, dtype=int)\n",
    "    # < popbd , find unpopular page\n",
    "    targetcands = np.argwhere(colSum < popbd).flatten()\n",
    "\n",
    "    # add inject_K\n",
    "    targets = [random.sample(list(targetcands), bcnt) for index in range(inject_K)]\n",
    "    # return the sorted, unique values in ar1 that are not in ar2\n",
    "    # not unpopular pages\n",
    "    camocands = np.setdiff1d(colids, np.array(targets).flatten(), assume_unique=True)\n",
    "    camoprobs = colSum[camocands]/float(colSum[camocands].sum())\n",
    "    #population = np.repeat(camocands, colSum[camocands].astype(int), axis=0)\n",
    "    fraudcands = np.arange(m,dtype=int) #users can be hacked( all user can be ?)\n",
    "\n",
    "    # add inject_K\n",
    "    fraudsters = [random.sample(list(fraudcands), acnt) for index in range(inject_K)]\n",
    "    'rating times for one user to one product, multiedge'\n",
    "    # rating time and rating probability ( just normal?, lognorm ?)\n",
    "    scands = np.arange(1,smax+1,dtype=int)\n",
    "    sprobs = []\n",
    "    numedges = (M>0).sum()\n",
    "    for s in scands:\n",
    "        nums = (M==s).sum()\n",
    "        sprobs.append(float(nums)/numedges)\n",
    "\n",
    "    # inject near clique\n",
    "    for index in range(inject_K):\n",
    "        for j in targets[index]:\n",
    "            # acnt can be hacked, only goal exe, and bcnt unpopular page\n",
    "            # first loop page\n",
    "            exeusers = random.sample(list(fraudsters[index]), goal)\n",
    "            for i in exeusers:\n",
    "                s = np.random.choice(scands, size=1, p=sprobs)[0] if weighted else 1\n",
    "                if (not weighted) and M2[i,j] > 0:\n",
    "                    continue\n",
    "                # why plus s not  = s , M2 ? adj matrix equal a weight number?\n",
    "                M2[i,j] += s\n",
    "                k = '{}-{}'.format(i,j)\n",
    "                generateProps(rates, times, k, s, t0, tsdiffcands,tsp)\n",
    "\n",
    "        # inject camo\n",
    "        p = goal/float(acnt)\n",
    "        for i in fraudsters[index]:\n",
    "            if testIdx == 1:\n",
    "                thres = p * bcnt / (n - bcnt)\n",
    "                for j in camocands:\n",
    "                    s = np.random.choice(scands, size=1, p=sprobs) if weighted else 1\n",
    "                    if (not weighted) and M2[i,j] > 0:\n",
    "                        continue\n",
    "                    if random.random() < thres:\n",
    "                        M2[i,j] += s\n",
    "                        k = '{}-{}'.format(i,j)\n",
    "                        generateProps(rates, times, k, s, t0, tsdiffcands, tsp)\n",
    "            if testIdx == 2:\n",
    "                thres = 2 * p * bcnt / (n - bcnt)\n",
    "                for j in camocands:\n",
    "                    s = np.random.choice(scands, size=1, p=sprobs) if weighted else 1\n",
    "                    if (not weighted) and M2[i,j] > 0:\n",
    "                        continue\n",
    "                    if random.random() < thres:\n",
    "                        M2[i,j] += s\n",
    "                        k = '{}-{}'.format(i,j)\n",
    "                        generateProps(rates, times, k, s, t0, tsdiffcands, tsp)\n",
    "            # biased camo           \n",
    "            if testIdx == 3:\n",
    "                colRplmt = np.random.choice(camocands, size=int(bcnt*p),\n",
    "                                            p=camoprobs)\n",
    "                #M2[i,colRplmt] = 1\n",
    "                s = np.random.choice(scands, size=1, p=sprobs) if weighted else 1\n",
    "                for j in colRplmt:\n",
    "                    if (not weighted) and M2[i,j] > 0:\n",
    "                        continue\n",
    "                    M2[i,j] += s\n",
    "                    k = '{}-{}'.format(i,j)\n",
    "                    generateProps(rates, times, k, s, t0, tsdiffcands, tsp)\n",
    "    \n",
    "    if suffix is not None:\n",
    "        suffix = str(suffix)\n",
    "    else:\n",
    "        suffix =''\n",
    "    if ratefile is not None and output is True:\n",
    "        saveDictListData(rates, ratefile+'.inject'+suffix)\n",
    "    if tsfile is not None and output is True:\n",
    "        saveDictListData(times, tsfile+'.inject'+suffix)\n",
    "    M2 = M2.tocoo()\n",
    "    if not weighted:\n",
    "        M2.data[0:] =1\n",
    "    if output is True:\n",
    "        savesm2edgelist(M2.astype(int), freqfile+'.inject'+suffix, idstartzero=idstartzero)\n",
    "        saveSimpleListData(np.array(fraudsters).flatten(), freqfile+'.trueA'+suffix)\n",
    "        saveSimpleListData(np.array(targets).flatten(), freqfile+'.trueB'+suffix)\n",
    "    if re:\n",
    "        return M2, N, np.array(fraudsters).flatten(), np.array(targets).flatten()\n",
    "    else:\n",
    "        return"
   ]
  },
  {
   "cell_type": "code",
   "execution_count": 9,
   "metadata": {},
   "outputs": [
    {
     "name": "stderr",
     "output_type": "stream",
     "text": [
      "31056it [00:00, 310556.59it/s]"
     ]
    },
    {
     "name": "stdout",
     "output_type": "stream",
     "text": [
      "yelp.edgelist.gz\n"
     ]
    },
    {
     "name": "stderr",
     "output_type": "stream",
     "text": [
      "2601677it [00:06, 393523.15it/s]\n",
      "21730it [00:00, 217295.03it/s]"
     ]
    },
    {
     "name": "stdout",
     "output_type": "stream",
     "text": [
      "edge len 4356\n"
     ]
    },
    {
     "name": "stderr",
     "output_type": "stream",
     "text": [
      "2601677it [00:09, 283638.55it/s]\n",
      "2601677it [00:09, 282406.77it/s]\n"
     ]
    },
    {
     "name": "stdout",
     "output_type": "stream",
     "text": [
      "ts sample list [ 1  2  3  4  5  6  7  8  9 10 11 12 13 14 15 16 17 18 19 20]\n",
      "max tf time [ 1.  2.  3.  4.  5.  6.  7.  8.  9. 10. 11. 12. 13. 14. 15. 16. 17. 18.\n",
      " 19. 20.]\n"
     ]
    },
    {
     "name": "stderr",
     "output_type": "stream",
     "text": [
      "30517it [00:00, 305168.11it/s]"
     ]
    },
    {
     "name": "stdout",
     "output_type": "stream",
     "text": [
      "yelp.edgelist.gz\n"
     ]
    },
    {
     "name": "stderr",
     "output_type": "stream",
     "text": [
      "2601677it [00:06, 398082.73it/s]\n",
      "21877it [00:00, 218767.60it/s]"
     ]
    },
    {
     "name": "stdout",
     "output_type": "stream",
     "text": [
      "edge len 4356\n"
     ]
    },
    {
     "name": "stderr",
     "output_type": "stream",
     "text": [
      "2601677it [00:08, 289371.27it/s]\n",
      "2601677it [00:09, 267010.67it/s]\n"
     ]
    },
    {
     "name": "stdout",
     "output_type": "stream",
     "text": [
      "ts sample list [ 1  2  3  4  5  6  7  8  9 10 11 12 13 14 15 16 17 18 19 20]\n",
      "max tf time [ 1.  2.  3.  4.  5.  6.  7.  8.  9. 10. 11. 12. 13. 14. 15. 16. 17. 18.\n",
      " 19. 20.]\n"
     ]
    }
   ],
   "source": [
    "freqfile = \"yelp.edgelist.gz\"\n",
    "ratefile = \"yelprate.dict.gz\"\n",
    "tsfile = \"yelpts.dict.gz\"\n",
    "edgeSet = set(range(1000))\n",
    "bcnt, goal, popbd = 50, 50, 100\n",
    "acnt = 200\n",
    "M, N, trueA, trueB = injectFraud2PropGraph(edgeSet, freqfile, ratefile, tsfile, acnt, bcnt, goal, popbd,\n",
    "                          testIdx = 0, idstartzero=True, re=True, suffix=None, weighted=True, output=True, inject_K=1)\n",
    "MR, NR, trueAR, trueBR = injectFraud2PropGraph(edgeSet, freqfile, ratefile, tsfile, acnt, bcnt, goal, popbd,\n",
    "                          testIdx = 3, idstartzero=True, re=True, suffix=None, weighted=True, output=True, inject_K=1)"
   ]
  },
  {
   "cell_type": "code",
   "execution_count": 10,
   "metadata": {},
   "outputs": [
    {
     "name": "stdout",
     "output_type": "stream",
     "text": [
      "6852\n",
      "4356\n"
     ]
    },
    {
     "data": {
      "image/png": "[encoded data removed]",
      "text/plain": [
       "<Figure size 400x400 with 1 Axes>"
      ]
     },
     "metadata": {
      "needs_background": "light"
     },
     "output_type": "display_data"
    },
    {
     "data": {
      "image/png": "[encoded data removed]",
      "text/plain": [
       "<Figure size 400x400 with 1 Axes>"
      ]
     },
     "metadata": {
      "needs_background": "light"
     },
     "output_type": "display_data"
    },
    {
     "data": {
      "image/png": "[encoded data removed]",
      "text/plain": [
       "<Figure size 400x400 with 1 Axes>"
      ]
     },
     "metadata": {
      "needs_background": "light"
     },
     "output_type": "display_data"
    }
   ],
   "source": [
    "import matplotlib.pyplot as plt\n",
    "%matplotlib inline\n",
    "plt.rcParams['figure.dpi'] = 40\n",
    "plt.rcParams['figure.figsize'] = [10, 10]\n",
    "\n",
    "print(len(M.data))\n",
    "print(len(N.data))\n",
    "\n",
    "\n",
    "def sortM(trueA, trueB, M):\n",
    "    trueA.sort()\n",
    "    trueB.sort()\n",
    "    m, n = M.shape\n",
    "    \n",
    "    row_index = np.arange(m)\n",
    "    swap_index = m -1\n",
    "    for index in range(len(trueA)):\n",
    "        row_index[swap_index] = trueA[len(trueA) -1 - index]\n",
    "        row_index[trueA[len(trueA) -1 - index]] = swap_index\n",
    "        \n",
    "        swap_index -=1\n",
    "    \n",
    "    col_index = np.arange(n)\n",
    "    swap_index = n -1\n",
    "    for index in range(len(trueB)):\n",
    "        col_index[swap_index] = trueB[len(trueB) -1 - index]\n",
    "        col_index[trueB[len(trueB) -1 - index]] = swap_index\n",
    "        \n",
    "        swap_index -=1\n",
    "        \n",
    "    x = M.tocoo()\n",
    "    idenRows = np.asarray(row_index, dtype=x.row.dtype)\n",
    "    x.row = idenRows[x.row]\n",
    "    \n",
    "    idenCols = np.asarray(col_index, dtype=x.col.dtype)\n",
    "    x.col = idenCols[x.col]\n",
    "    \n",
    "    H = x.tocsr()\n",
    "    return H\n",
    "\n",
    "plt.spy(N, marker=',', markersize = 5)\n",
    "plt.show()\n",
    "\n",
    "plt.spy(M, marker=',', markersize = 5)\n",
    "plt.show()\n",
    "\n",
    "MM = sortM(trueA, trueB, M)\n",
    "plt.spy(MM, marker=',', markersize = 5)\n",
    "plt.show()"
   ]
  },
  {
   "cell_type": "code",
   "execution_count": 11,
   "metadata": {},
   "outputs": [
    {
     "data": {
      "image/png": "[encoded data removed]",
      "text/plain": [
       "<Figure size 400x400 with 1 Axes>"
      ]
     },
     "metadata": {
      "needs_background": "light"
     },
     "output_type": "display_data"
    },
    {
     "data": {
      "image/png": "[encoded data removed]",
      "text/plain": [
       "<Figure size 400x400 with 1 Axes>"
      ]
     },
     "metadata": {
      "needs_background": "light"
     },
     "output_type": "display_data"
    },
    {
     "data": {
      "image/png": "[encoded data removed]",
      "text/plain": [
       "<Figure size 400x400 with 1 Axes>"
      ]
     },
     "metadata": {
      "needs_background": "light"
     },
     "output_type": "display_data"
    }
   ],
   "source": [
    "plt.spy(NR, marker=',', markersize = 5)\n",
    "plt.show()\n",
    "\n",
    "plt.spy(MR, marker=',', markersize = 5)\n",
    "plt.show()\n",
    "\n",
    "MM = sortM(trueAR, trueBR, MR)\n",
    "plt.spy(MM, marker=',', markersize = 5)\n",
    "plt.show()"
   ]
  }
 ],
 "metadata": {
  "kernelspec": {
   "display_name": "Python 3",
   "language": "python",
   "name": "python3"
  },
  "language_info": {
   "codemirror_mode": {
    "name": "ipython",
    "version": 3
   },
   "file_extension": ".py",
   "mimetype": "text/x-python",
   "name": "python",
   "nbconvert_exporter": "python",
   "pygments_lexer": "ipython3",
   "version": "3.6.8"
  }
 },
 "nbformat": 4,
 "nbformat_minor": 2
}
